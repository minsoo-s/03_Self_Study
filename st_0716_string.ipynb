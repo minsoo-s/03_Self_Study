{
 "cells": [
  {
   "cell_type": "markdown",
   "metadata": {},
   "source": [
    "# regular Expressions study\n",
    "- day      : 2022_07_16_sat_15:23 \n",
    "- book     : jump to python\n",
    "- goal     : to solve difficult string process\n",
    "\n",
    "---------------------------------------------------이론 정리 ------------------------------------------------------------------------"
   ]
  },
  {
   "cell_type": "markdown",
   "metadata": {},
   "source": [
    "#### 1. 정규표현식 (regular expression) 사용법 \n",
    "- 기본 사용법 : 한 번 만든 객체를 여러번 사용할 때 유용함.\n",
    "   - import re\n",
    "   - p = re.compile(조건) -> p를 사용하여 작업 수행.\n",
    "   - m = p.match(대상)\n",
    "\n",
    "- 모듈 단위 수행 : compile 생략 / 컴파일 옵션을 사용 할 경우.\n",
    "   - m = re.match(조건, 대상) \n",
    "      - S (DOTALL)____: dot(.)이 줄바꿈 문자를 포함하여 모든 문자와 매치한다.\n",
    "      - I (IGNORECASE): 대소문자 관계 없이 매치.\n",
    "      - M (MULTILINE) : 여러 줄과 매치한다.\n",
    "      - X (VERBOSE)___: 정규식을 보기 편하게 만들어주고, 주석 등 사용가능 (verbose모드)\n",
    "\n",
    "#### 2 메서드 : match(), search(), findall(), finditer() \n",
    "- (1) match()   : 문자열을 처음부터 정규식과 매치되는지 조사     \n",
    "- (2) search()  : 문자열 전체를 검색하여 정규식과 매치되는지 조사 \n",
    "- (3) findall() : 정규식과 매치되는 모든 문자열(str)을 리스트로 돌려줌.\n",
    "- (4) finditer(): 정규식과 매치되는 모든 문자열(str)을 반복가능한 객체로 돌려줌.\n",
    "   - match(), search()는 매치되지 않을 시, None\n",
    "\n",
    "#### 3. 메타 문자 : [] \\ ^ $ * + {} ? | ()\n",
    "- 문자열을 소비하는 메타문자: +, * [], {}\n",
    "- 문자열을 소비하지 않는 메타 문자: |, ^, $, \\A, \\Z, \\b, \\B ---> 'zero width assertions'   \n",
    "\n",
    "##### ◆ 문자클래스 [ ] : [ ]에 포함된 문자들과 매치 -> 반복없이 메서드 사용시 가장 앞문자만 match객체가 되는 듯? \n",
    "- (1) - : From-To 를 의미 \n",
    "- (2) ^ : not, 반대를 의미 ---> [ ] 안에 있을 경우만 반대를 의미함.  \n",
    "   - ex.  [abc] -> a 매치O / dude 매치X\n",
    "   - ex(1) [abc] = [a-c]\n",
    "   - ex(1) [a-zA-Z] : 알파벳 모두\n",
    "   - ex(1) [0-9] : 숫자\n",
    "   - ex(2) [^0-9] : 문자만 매치\n",
    "\n",
    "##### 자주 사용하는 문자클래스   \n",
    "- (3) \\d : 숫자 [0-9]               \n",
    "   - <-> \\D : 문자 [^0-9]\n",
    "- (4) \\s : 공백 space or tab         \n",
    "   - <-> \\S : 공백이 아닌 것  \n",
    "- (5) \\w : 문자 + 숫자 [a-zA-Z0-9_]  \n",
    "   - <-> \\W : 문자 + 숫자가 아닌 것 [^a-zA-Z0-9_]\n",
    "\n",
    "##### ◆ ^ , $ \n",
    "- [ 주의! ] 일반 사용 경우 \n",
    "   - ^ : 문자열 시작\n",
    "   - $ : 문자열 마지막\n",
    "\n",
    "##### ◆ Dot(.) : 줄바꿈('\\n')을 제외한 모든 문자와 매치\n",
    "   - ex) a.b -> aab 매치O, abc 매치X\n",
    "   - ex) a[.]b -> a.b 매치O, a0b 매치x \n",
    "      - 만약 Dot이 [] 안에서 사용된다면 메타문자로 사용되지 않는다.\n",
    "\n",
    "##### ◆ 반복 -> (1): *  (2): +  (3): { }  (4): ?\n",
    "- (1) *  : 앞문자가 0 ~ 무한대로 반복될 시 매치 \n",
    "- (2) +  : 앞문자가 1 ~ 무한대로 반복될 시 매치 \n",
    "- (3) {} : {m} -> 앞문자 m번 반복, {m,n} -> 앞문자 m~n번 반복\n",
    "- (4) ?  : 앞문자가 0~1 반복될 시 매치 \n",
    "   - ex(1) ca*t     -> ct, cat, caaat 매치O\n",
    "   - ex(2) ca+t     -> cat, caaat 매치O / ct 매치X\n",
    "   - ex(3) ca{2}t   -> cat caat 매치O / ct 매치X\n",
    "   - ex(3) ca{2,5}t -> caat,caaat,caaat,caaaaat 매치O / cat 매치X\n",
    "   - ex(4) ca?t     -> ct,cat 매치O / caat 매치X \n",
    "\n",
    "##### ◆ zero width assertions : 문자열 소비가 없는 메타문자\n",
    "- (1) | _: A|B ---> A 또는 B\n",
    "- (2) ^ _: 문자열 처음과 매치 ----> [ 주의! ] 문자클래스 [ ] 안에서 사용될 경우, not으로 기능함. \n",
    "- (3) $ _: 문자열 마지막과 매치 \n",
    "- (4) \\A : 전체 문자열 처음과 매치 ----> re.M을 사용해도 전체의 문자열 처음하고만 매치\n",
    "- (5) \\Z : 전체 문자열 마지막과 매치---> re.M을 사용해도 전체의 문자열 마지막하고만 매치\n",
    "- (6) \\b : 구분자(word boundary) / whitespace에 의해 구분된 경우 매치 ----> [주의!] r'\\b' 형태로 사용해야함 (파이썬에서 \\b는 백스페이스를 의미하기 때문)\n",
    "   - \\b단어 -> 공백 기준 해당 단어의 앞에서 사용되는 문자 찾음. \n",
    "   - 단어\\b -> 공백 기준 해당 단어의 뒤에서 사용되는 단어 찾음.\n",
    "- (7) \\B : \\b의 반대 기능 / whitespace로 구분되지 않은 경우 매치됨. \n",
    "\n",
    "##### ◆ () : 그루핑 : 외부 그룹부터 순서지정됨. \n",
    "- (1) 그룹 호출\n",
    "   - m.group(0) : 매치된 전체 문자열\n",
    "   - m.group(n) : n번째 그룹에 해당하는 문자열 \n",
    "\n",
    "- ex(1)\n",
    "data = \"park 010-1234-5678\"\n",
    "cond = r'(\\w+)\\s+((\\d+)[-]\\d+[-]\\d+)'\n",
    "p = re.compile(cond)\n",
    "m = p.search(data)\n",
    "\n",
    "조건: (\\w+)\\s+((\\d+)[-]\\d+[-]\\d+) ---> <re.Match object; span=(0, 18), match='park 010-1234-5678'>\n",
    "그룹화: m.group(0) : park 010-1234-5678\n",
    "그룹화: m.group(1) : park\n",
    "그룹화: m.group(2) : 010-1234-5678\n",
    "그룹화: m.group(3) : 010\n",
    "\n",
    "- (2) 문자열 재참조\n",
    "   - \\1 -> 첫번째 그룹 재참조\n",
    "\n",
    "- (3) 그루핑된 문자열 이름 붙이기\n",
    "   - 사용법 : ?P<그룹이름> ---> 해당 그룹의 가장 앞에 작성하면 됨.\n",
    "   - 호출법 : m.group('그룹이름')\n",
    "\n",
    "- (4) 그룹이름 재참조\n",
    "   - 사용법 : ?P=그룹이름 ---> \\1 위치에 작성하면 됨.   \n",
    "\n",
    "##### ◆ (?=...) , (?!...) : 전방 탐색 \n",
    "- (?=...) : ...에 해당하는 정규식과 매치되어야함. 문자열이 소비되지 않음(검색결과 출력 시 제거)\n",
    "- (?!...) : ...에 해당하는 정규식과 매치되지 않아야 함. 문자열이 소비되지 않음(검색결과 출력 시 제거)\n",
    "\n",
    "##### ◆ p.sub() : 문자열 바꾸기\n",
    "- (1) p.sub(바꿀 문자열,대상 문자열,count) count는 바꾸기 횟수\n",
    "- (2) p.subn() -> 튜플로 결과를 돌려줌 (결과값,바꾸기 횟수)\n",
    "- (3) sub로 참조하기. \\g<그룹이름> 이나 \\g<그룹번호> 를 이용해 정규식 그룹 참조 가능\n",
    "- (4) sub메서드의 첫번째 매개변수로 함수넣기 ex) p.sub(함수, 대상)\n",
    "\n",
    "##### ◆ non greedy 문자 : ?\n",
    "- 가능한 최소한의 반복을 수행하도록 도와줌."
   ]
  },
  {
   "cell_type": "markdown",
   "metadata": {},
   "source": [
    "------------------------------------ 메서드 예제 실습(match, search, findall, finditer) -------------------------------------------------------------"
   ]
  },
  {
   "cell_type": "markdown",
   "metadata": {},
   "source": [
    "##### 1. match() : 처음부터 검사 / match 객체 돌려줌\n",
    "- match객체 메서드\n",
    "    - (1) group() : 매치된 문자열 돌려줌.\n",
    "    - (2) start() : 매치된 문자열 시작위치 돌려줌.\n",
    "    - (3) end()   : 매치된 문자열의 끝 위치를 돌려줌.\n",
    "    - (4) span()  : 매치된 문자열의 (시작, 끝)에 해당하는 튜플을 돌려줌."
   ]
  },
  {
   "cell_type": "code",
   "execution_count": 141,
   "metadata": {},
   "outputs": [
    {
     "name": "stdout",
     "output_type": "stream",
     "text": [
      "----------match 결과보기----------\n",
      "python -> <re.Match object; span=(0, 6), match='python'>\n",
      "3 python -> None\n",
      "python 3 -> <re.Match object; span=(0, 6), match='python'>\n",
      "----------match 일반적 사용법----------\n",
      "match found: python\n",
      "----------match객체 메서드 보기----------\n",
      "m.group -> python\n",
      "m.start -> 0\n",
      "m.end   -> 6\n",
      "m.span  -> (0, 6)\n"
     ]
    }
   ],
   "source": [
    "import re\n",
    "\n",
    "# a~z가 1번 이상 반복하는 경우, 매치\n",
    "p = re.compile('[a-z]+')\n",
    "\n",
    "print(\"----------match 결과보기----------\")\n",
    "# 매치 -> 매치 객체를 돌려줌\n",
    "m = p.match(\"python\")\n",
    "print(f'python -> {m}')\n",
    "\n",
    "# None\n",
    "m = p.match(\"3 python\")\n",
    "print(f'3 python -> {m}')\n",
    "\n",
    "# match는 처음부터 검사하기 때문에 이 경우는 매치결과값 돌려줌.\n",
    "m = p.match(\"python 3\")\n",
    "print(f'python 3 -> {m}')\n",
    "\n",
    "print('----------match 일반적 사용법----------')\n",
    "# match 사용법 : 결과값 있을 때만 작업수행\n",
    "p = re.compile('[a-z]+')\n",
    "m = p.match(\"python\")\n",
    "if m:\n",
    "    print(f'match found: {m.group()}')\n",
    "else:\n",
    "    print('no match')\n",
    "    \n",
    "# match객체 메서드 보기\n",
    "print('----------match객체 메서드 보기----------')\n",
    "print(f'm.group -> {m.group()}')    \n",
    "print(f'm.start -> {m.start()}')    \n",
    "print(f'm.end   -> {m.end()}')    \n",
    "print(f'm.span  -> {m.span()}')    "
   ]
  },
  {
   "cell_type": "markdown",
   "metadata": {},
   "source": [
    "##### 2. search() : 전체를 검사 / 매치 객체를 돌려줌."
   ]
  },
  {
   "cell_type": "code",
   "execution_count": 142,
   "metadata": {},
   "outputs": [
    {
     "name": "stdout",
     "output_type": "stream",
     "text": [
      "<re.Match object; span=(0, 6), match='python'>\n",
      "<re.Match object; span=(2, 8), match='python'>\n"
     ]
    }
   ],
   "source": [
    "p = re.compile('[a-z]+')\n",
    "\n",
    "# match와 같은 결과\n",
    "m = p.search('python')\n",
    "print(m)\n",
    "\n",
    "# match와 달리 전체 중 매치하는 부분을 돌려줌.\n",
    "m = p.search(\"3 python\")\n",
    "print(m)"
   ]
  },
  {
   "cell_type": "markdown",
   "metadata": {},
   "source": [
    "##### 3. findall() : 매치하는 모든 문자열 리스트로 돌려줌 / match 객체 없음."
   ]
  },
  {
   "cell_type": "code",
   "execution_count": 143,
   "metadata": {},
   "outputs": [
    {
     "name": "stdout",
     "output_type": "stream",
     "text": [
      "['life', 'is', 'too', 'short']\n"
     ]
    }
   ],
   "source": [
    "# p의 정규식에 매치하는 모든 문자열을 리스트로 돌려줌.\n",
    "result = p.findall(\"life is too short\")\n",
    "print(result)"
   ]
  },
  {
   "cell_type": "markdown",
   "metadata": {},
   "source": [
    "##### 4. finditer() : 반복 가능한 객체를 돌려줌. / match 객체를 돌려줌."
   ]
  },
  {
   "cell_type": "code",
   "execution_count": 144,
   "metadata": {},
   "outputs": [
    {
     "name": "stdout",
     "output_type": "stream",
     "text": [
      "<callable_iterator object at 0x00000191C271BB20>\n",
      "<re.Match object; span=(0, 4), match='life'>\n",
      "<re.Match object; span=(5, 7), match='is'>\n",
      "<re.Match object; span=(8, 11), match='too'>\n",
      "<re.Match object; span=(12, 17), match='short'>\n"
     ]
    }
   ],
   "source": [
    "result = p.finditer(\"life is too short\")\n",
    "print(result)\n",
    "\n",
    "for i in result: print(i)"
   ]
  },
  {
   "cell_type": "markdown",
   "metadata": {},
   "source": [
    "------------------------------------------- 컴파일 옵션 예제 실습 (S, I, M, X) -------------------------------------------"
   ]
  },
  {
   "cell_type": "markdown",
   "metadata": {},
   "source": [
    "##### 1. re.S : dot(.) 문자가 줄바꿈 문자를 포함하여 모든 문자와 매치한다. \n",
    "- 사용법 : re.S / re.DOTALL"
   ]
  },
  {
   "cell_type": "code",
   "execution_count": 145,
   "metadata": {},
   "outputs": [
    {
     "name": "stdout",
     "output_type": "stream",
     "text": [
      "-----------기본 정규표현식-----------\n",
      "조건: a.b\n",
      "대상: a\\nb\n",
      "결과: None\n",
      "=> .은 줄바꿈 문자를 제외한 모든 문자를 매치하므로 None\n",
      "-----------컴파일 옵션(S)-----------\n",
      "조건: a.b\n",
      "대상: a\\nb\n",
      "결과: <re.Match object; span=(0, 3), match='a\\nb'>\n",
      "=> re.S는 줄바꿈 문자까지 모두 포함하여 매치하므로 결과값 존재\n"
     ]
    }
   ],
   "source": [
    "# 기본 정규표현식 \n",
    "import re\n",
    "p = re.compile('a.b')\n",
    "m = p.match('a\\nb')\n",
    "print('-----------기본 정규표현식-----------')\n",
    "print(f'조건: a.b\\n대상: a\\\\nb\\n결과: {m}')\n",
    "print('=> .은 줄바꿈 문자를 제외한 모든 문자를 매치하므로 None')\n",
    "\n",
    "# 컴파일 옵션(S) \n",
    "p = re.compile('a.b',re.S)\n",
    "m = p.match('a\\nb')\n",
    "print('-----------컴파일 옵션(S)-----------')\n",
    "print(f'조건: a.b\\n대상: a\\\\nb\\n결과: {m}')\n",
    "print('=> re.S는 줄바꿈 문자까지 모두 포함하여 매치하므로 결과값 존재')\n"
   ]
  },
  {
   "cell_type": "markdown",
   "metadata": {},
   "source": [
    "##### 2. re.I : 대소문자 구별없이 매치를 수행\n",
    "- 사용법 : re.I / re.IGNORECASE"
   ]
  },
  {
   "cell_type": "code",
   "execution_count": 146,
   "metadata": {},
   "outputs": [
    {
     "name": "stdout",
     "output_type": "stream",
     "text": [
      "<re.Match object; span=(0, 1), match='p'>\n",
      "<re.Match object; span=(0, 1), match='P'>\n",
      "<re.Match object; span=(0, 1), match='p'>\n"
     ]
    }
   ],
   "source": [
    "p = re.compile('[a-z]',re.I)\n",
    "m1 = p.match('python')\n",
    "m2 = p.match('Python')\n",
    "m3 = p.match('pytHon')\n",
    "print(m1)\n",
    "print(m2)\n",
    "print(m3)"
   ]
  },
  {
   "cell_type": "markdown",
   "metadata": {},
   "source": [
    "##### 3. re.M : 각 라인마다 조건 적용\n",
    "- 사용법: re.M / re.MULTILINE"
   ]
  },
  {
   "cell_type": "code",
   "execution_count": 147,
   "metadata": {},
   "outputs": [
    {
     "name": "stdout",
     "output_type": "stream",
     "text": [
      "-----------기본 정규표현식-----------\n",
      "조건: ^python\\s\\w+ (^: 문자열의 시작 \\s: 빈공간, \\w: 모든 숫자와 문자, +:1개 이상 반복)\n",
      "대상: python one\n",
      "life is too short\n",
      "python two\n",
      "you need python\n",
      "python three\n",
      "결과: ['python one']\n",
      "=> 전체 줄에서 처음 python만 매치되어 리스트로 반환.\n",
      "-----------컴파일 옵션(re.M)-----------\n",
      "조건: ^python\\s\\w+\n",
      "대상: python one\n",
      "life is too short\n",
      "python two\n",
      "you need python\n",
      "python three\n",
      "결과: ['python one', 'python two', 'python three']\n",
      "=> 조건을 한 줄씩 적용하여 줄마다 매치되는 값 리스트로 반환.\n"
     ]
    }
   ],
   "source": [
    "data = '''python one\n",
    "life is too short\n",
    "python two\n",
    "you need python\n",
    "python three'''\n",
    "\n",
    "# 기본 정규표현식\n",
    "p = re.compile('^python\\s\\w+')\n",
    "m = p.findall(data)\n",
    "print('-----------기본 정규표현식-----------')\n",
    "print(f'조건: ^python\\\\s\\\\w+ (^: 문자열의 시작 \\\\s: 빈공간, \\\\w: 모든 숫자와 문자, +:1개 이상 반복)\\n대상: {data}\\n결과: {m}')\n",
    "print('=> 전체 줄에서 처음 python만 매치되어 리스트로 반환.')\n",
    "\n",
    "# 컴파일 옵션 re.M 이용\n",
    "p = re.compile('^python\\s\\w+',re.M)\n",
    "m = p.findall(data)\n",
    "print('-----------컴파일 옵션(re.M)-----------')\n",
    "print(f'조건: ^python\\\\s\\\\w+\\n대상: {data}\\n결과: {m}')\n",
    "print('=> 조건을 한 줄씩 적용하여 줄마다 매치되는 값 리스트로 반환.')"
   ]
  },
  {
   "cell_type": "markdown",
   "metadata": {},
   "source": [
    "##### 4. re.X : 이해하기 어려운 정규식의 주석, 줄단위 구분하는 기능\n",
    "- 사용법 : re.X / re.VERBOSE"
   ]
  },
  {
   "cell_type": "code",
   "execution_count": 148,
   "metadata": {},
   "outputs": [],
   "source": [
    "# 기본 정규화표현\n",
    "charref = re.compile(r'&[#](0[0-7]+|[0-9]+|x[0-9a-fA-F]+);')\n",
    "\n",
    "# 컴파일 옵션(re.X) : 잘모르겠음... \n",
    "charref = re.compile(r\"\"\"                   \n",
    "                     &[#]               # Start of a numeric entity reference\n",
    "                     (\n",
    "                         0[0-7]+        # Octal form\n",
    "                         |[0-9]+        # Decimal form\n",
    "                         |x[0-9a-fA-F]+ # Hexadecimal form\n",
    "                         )\n",
    "                         ;              # Trailing semicolon\n",
    "                         \"\"\",re.X)"
   ]
  },
  {
   "cell_type": "markdown",
   "metadata": {},
   "source": [
    "--------------------------------------------------------- 그루핑 실습 ---------------------------------------------------------\n"
   ]
  },
  {
   "cell_type": "markdown",
   "metadata": {},
   "source": [
    "( CASE_1 ) \n",
    "- ABC문자열이 계속해서 반복되는지 조사하는 정규식"
   ]
  },
  {
   "cell_type": "code",
   "execution_count": 149,
   "metadata": {},
   "outputs": [
    {
     "name": "stdout",
     "output_type": "stream",
     "text": [
      "1.그루핑 없이 ABC+ 조건으로 match 개체 생성 확인 :<re.Match object; span=(0, 3), match='ABC'>\n",
      "2.그루핑를 통해 (ABC)+ 조건으로 match 개체 생성 확인 :<re.Match object; span=(0, 9), match='ABCABCABC'>\n",
      "3.그루핑를 통해 (ABC+) 조건으로match 개체 생성 확인 :<re.Match object; span=(0, 3), match='ABC'>\n"
     ]
    }
   ],
   "source": [
    "# 그루핑 없이 'ABC+'조건으로 match 개체 생성 확인 \n",
    "p = re.compile('ABC+')\n",
    "m = p.search('ABCABCABC OK?')\n",
    "print(f'1.그루핑 없이 ABC+ 조건으로 match 개체 생성 확인 :{m}')\n",
    "\n",
    "# 그루핑을 통해 '(ABC)+'조건으로 match 개체 생성 확인\n",
    "p = re.compile('(ABC)+')      # (ABC+) \n",
    "m = p.search('ABCABCABC OK?')\n",
    "print(f'2.그루핑를 통해 (ABC)+ 조건으로 match 개체 생성 확인 :{m}')\n",
    "\n",
    "# 그루핑을 통해 '(ABC+)'조건으로 match 개체 생성 확인\n",
    "p = re.compile('(ABC+)')      # (ABC+) \n",
    "m = p.search('ABCABCABC OK?')\n",
    "print(f'3.그루핑를 통해 (ABC+) 조건으로match 개체 생성 확인 :{m}')\n"
   ]
  },
  {
   "cell_type": "markdown",
   "metadata": {},
   "source": [
    "(CASE_2)\n",
    "- ' 이름 +\" \"+ 전화번호 ' 형태의 문자열 찾는 정규식"
   ]
  },
  {
   "cell_type": "code",
   "execution_count": 150,
   "metadata": {},
   "outputs": [
    {
     "name": "stdout",
     "output_type": "stream",
     "text": [
      "조건: \\w ---> <re.Match object; span=(0, 1), match='p'>\n",
      "조건: \\w+ ---> <re.Match object; span=(0, 4), match='park'>\n",
      "조건: \\w+\\s ---> <re.Match object; span=(0, 5), match='park '>\n",
      "조건: \\w+\\s+ ---> <re.Match object; span=(0, 5), match='park '>\n",
      "조건: \\w+\\s+\\d ---> <re.Match object; span=(0, 6), match='park 0'>\n",
      "조건: \\w+\\s+\\d+ ---> <re.Match object; span=(0, 8), match='park 010'>\n",
      "조건: \\w+\\s+\\d+[-] ---> <re.Match object; span=(0, 9), match='park 010-'>\n",
      "조건: \\w+\\s+\\d[-] ---> None\n",
      "조건: \\w+\\s+\\d+[-]\\d+[-]\\d+ ---> <re.Match object; span=(0, 18), match='park 010-1234-5678'>\n"
     ]
    }
   ],
   "source": [
    "data = \"park 010-1234-5678\"\n",
    "\n",
    "# cond 상황마다 match 개체 생성 파악을 하기 위한 함수 생성\n",
    "def nameNumber(cond):\n",
    "\n",
    "    p = re.compile(cond)\n",
    "    m = p.search(data)\n",
    "    print(f'조건: {cond} ---> {m}')\n",
    "\n",
    "nameNumber(r'\\w')\n",
    "nameNumber(r'\\w+')\n",
    "nameNumber(r'\\w+\\s')\n",
    "nameNumber(r'\\w+\\s+')\n",
    "nameNumber(r'\\w+\\s+\\d')\n",
    "nameNumber(r'\\w+\\s+\\d+')\n",
    "nameNumber(r'\\w+\\s+\\d+[-]')\n",
    "nameNumber(r'\\w+\\s+\\d[-]')      # [-] 는 - 하나만 처리함, 근데 search 는 전체에 적용되는데 순서가 왜 적용되는거지??\n",
    "nameNumber(r'\\w+\\s+\\d+[-]\\d+[-]\\d+')\n",
    "\n"
   ]
  },
  {
   "cell_type": "code",
   "execution_count": 151,
   "metadata": {},
   "outputs": [
    {
     "name": "stdout",
     "output_type": "stream",
     "text": [
      "조건: (\\w+)\\s+((\\d+)[-]\\d+[-]\\d+) ---> <re.Match object; span=(0, 18), match='park 010-1234-5678'>\n",
      "그룹화: m.group(0) : park 010-1234-5678\n",
      "그룹화: m.group(1) : park\n",
      "그룹화: m.group(2) : 010-1234-5678\n",
      "그룹화: m.group(3) : 010\n"
     ]
    }
   ],
   "source": [
    "cond = r'(\\w+)\\s+((\\d+)[-]\\d+[-]\\d+)'\n",
    "p = re.compile(cond)\n",
    "m = p.search(data)\n",
    "print(f'조건: {cond} ---> {m}')\n",
    "print(f'그룹화: m.group(0) : {m.group(0)}')\n",
    "print(f'그룹화: m.group(1) : {m.group(1)}')\n",
    "print(f'그룹화: m.group(2) : {m.group(2)}')\n",
    "print(f'그룹화: m.group(3) : {m.group(3)}')"
   ]
  },
  {
   "cell_type": "markdown",
   "metadata": {},
   "source": [
    "(CASE_3) ????????????????????????????????\n",
    "- 그루핑 문자열 재참조하기"
   ]
  },
  {
   "cell_type": "code",
   "execution_count": 152,
   "metadata": {},
   "outputs": [
    {
     "name": "stdout",
     "output_type": "stream",
     "text": [
      "<re.Match object; span=(9, 16), match='the the'>\n",
      "<re.Match object; span=(0, 1), match='P'>\n",
      "<re.Match object; span=(0, 5), match='Paris'>\n",
      "<re.Match object; span=(0, 1), match='P'>\n"
     ]
    }
   ],
   "source": [
    "p = re.compile(r'(\\b\\w+)\\s+\\1')        # 앞조건이 반복되는 문자열이 매치됨.\n",
    "m = p.search('Paris in the the spring')\n",
    "print(m)\n",
    "\n",
    "# 이거는 왜 \\b 는 공백 조건인데 왜 P가 매치됨? ---> \\b를 앞에 하나만 적어도 적용은 앞뒤 중 하나면 해당하면 매치되는건가?\n",
    "p = re.compile(r'\\b\\w')        \n",
    "m = p.search('Paris in the the spring')\n",
    "print(m)\n",
    "# 앞뒤가 공백인 단어여야 하는거 아닌가?? 제일 앞의 단어는 앞에 whitespace가 있다고 적용되는건가??\n",
    "p = re.compile(r'\\b\\w+\\b')        \n",
    "m = p.search('Paris in the the spring')\n",
    "print(m)\n",
    "\n",
    "p = re.compile(r'\\b\\w')        \n",
    "m = p.match('Paris in the the spring')\n",
    "print(m)"
   ]
  },
  {
   "cell_type": "markdown",
   "metadata": {},
   "source": [
    "(CASE_4)\n",
    "- 그루핑된 문자열 이름 붙이기\n",
    "    - 사용법 : ?P<그룹이름> ---> 해당 그룹의 가장 앞에 작성하면 됨.\n",
    "    - 호출법 : m.group('그룹이름')\n",
    "\n",
    "- 그룹이름 재참조\n",
    "    - 사용법 : ?P=그룹이름 ---> \\1 위치에 작성하면 됨.\n"
   ]
  },
  {
   "cell_type": "code",
   "execution_count": 153,
   "metadata": {},
   "outputs": [
    {
     "name": "stdout",
     "output_type": "stream",
     "text": [
      "park\n",
      "<re.Match object; span=(9, 16), match='the the'>\n"
     ]
    }
   ],
   "source": [
    "# 그룹이름 붙이기\n",
    "data = \"park 010-1234-5678\"\n",
    "\n",
    "cond = r'(?P<name>\\w+)\\s+((\\d+)[-]\\d+[-]\\d+)'\n",
    "p = re.compile(cond)\n",
    "m = p.search(data)\n",
    "print(m.group('name'))\n",
    "\n",
    "# 그룹이름 재참조하기\n",
    "data ='Paris in the the spring'\n",
    "cond = r'(?P<name>\\b\\w+)\\s+(?P=name)'\n",
    "p = re.compile(cond)\n",
    "m = p.search(data)\n",
    "print(m)"
   ]
  },
  {
   "cell_type": "markdown",
   "metadata": {},
   "source": [
    "------------------------------------------------------------- 전방 탐색 실습 -------------------------------------------------------------"
   ]
  },
  {
   "cell_type": "markdown",
   "metadata": {},
   "source": [
    "(CASE_1) http: 에서 :출력하지 않기\n",
    "- (?=...)"
   ]
  },
  {
   "cell_type": "code",
   "execution_count": 154,
   "metadata": {},
   "outputs": [
    {
     "name": "stdout",
     "output_type": "stream",
     "text": [
      "<re.Match object; span=(0, 5), match='http:'>\n",
      "<re.Match object; span=(0, 4), match='http'>\n"
     ]
    }
   ],
   "source": [
    "# 전방탐색 적용 전\n",
    "p = re.compile(\".+:\")\n",
    "m = p.search('http://google.com')\n",
    "print(m)\n",
    "\n",
    "# 전방탐색 적용 후\n",
    "p = re.compile(\".+(?=:)\")         # 전방탐색 조건에 매치된 값을 소비하지 않음 -> 출력에서 제거됨\n",
    "m = p.search('http://google.com')\n",
    "print(m)\n"
   ]
  },
  {
   "cell_type": "markdown",
   "metadata": {},
   "source": [
    "(CASE_2) '파일 이름 + . + 확장자' 정규식\n",
    "- 제외시킬 여로 조건이 있을 때, 부정형 전방 탐색이 유리\n",
    "- (?!...|...)"
   ]
  },
  {
   "cell_type": "code",
   "execution_count": 164,
   "metadata": {},
   "outputs": [
    {
     "name": "stdout",
     "output_type": "stream",
     "text": [
      "<re.Match object; span=(0, 7), match='foo.bar'>\n",
      "None\n",
      "<re.Match object; span=(0, 7), match='foo.bar'>\n",
      "None\n",
      "None\n",
      "<re.Match object; span=(0, 6), match='foo.cf'>\n",
      "----------- 부정 전방 탐색 사용 -----------\n",
      "bar, exe 확장자만 제외\n",
      "foo.bar => <re.Match object; span=(0, 7), match='foo.bar'>\n",
      "foo.bat => None\n",
      "foo.cf => <re.Match object; span=(0, 6), match='foo.cf'>\n",
      "foo.exe => None\n"
     ]
    }
   ],
   "source": [
    "# 긍정 전방 탐색 사용시 코드가 복잡해짐 \n",
    "\n",
    "# ' 파일 이름 + . + 확장자 ' 정규식\n",
    "p = re.compile(\".*[.].*$\")\n",
    "m = p.search('foo.bar')\n",
    "print(m)\n",
    "\n",
    "# 확장자 b로 시작하는 파일은 제외하기\n",
    "p = re.compile(\".*[.][^b].*$\") # 확장자 b로 시작하는 문자 제외         \n",
    "m = p.search('foo.bar')\n",
    "print(m)\n",
    "\n",
    "# 확장자 bat 파일 제외하기 -> 이 방식은 확장자 문자 개수가 3개가 아닐 때 오동작발생.\n",
    "p = re.compile(\".*[.]([^b]..|.[^a].|..[^t])$\") # 첫번째 문자가 b가 아니거나 두번째 문자가 a가 아니거나 세번째 문자가 t가 아니면 매치시킴.\n",
    "m = p.search('foo.bar') # bar는 제외되지 않음\n",
    "m2 = p.search('foo.bat') # bat는 제외됨\n",
    "m3 = p.search('foo.cf') \n",
    "print(m)\n",
    "print(m2) \n",
    "print(m3)\n",
    "\n",
    "# 확장자 두개도 통과되는 식\n",
    "p = re.compile(\".*[.]([^b].?.?|.[^a]?.?|..?[^t]?)$\")   # . ? 위치 무엇???\n",
    "m = p.search('foo.cf')\n",
    "print(m)\n",
    "\n",
    "# 부정 전방 탐색\n",
    "p = re.compile(\".*[.](?!bat$|exe$).*\")   # . ? 위치 무엇???\n",
    "m1 = p.search('foo.bar')\n",
    "m2 = p.search('foo.bat')\n",
    "m3 = p.search('foo.cf')\n",
    "m4 = p.search('foo.exe')\n",
    "print('----------- 부정 전방 탐색 사용 -----------')\n",
    "print('bar, exe 확장자만 제외')\n",
    "print(f'foo.bar => {m1}')\n",
    "print(f'foo.bat => {m2}')\n",
    "print(f'foo.cf => {m3}')\n",
    "print(f'foo.exe => {m4}')\n"
   ]
  },
  {
   "cell_type": "markdown",
   "metadata": {},
   "source": [
    "--------------------------------------------------------------------------------------------------------------------"
   ]
  },
  {
   "cell_type": "markdown",
   "metadata": {},
   "source": [
    "### Q1. 주민등록번호가 포함된 텍스트에서 주민등록번호 뒷자리를 *로 변경하기."
   ]
  },
  {
   "cell_type": "markdown",
   "metadata": {},
   "source": [
    "- 정규 표현식(regular expression) 없는 풀이 도전"
   ]
  },
  {
   "cell_type": "code",
   "execution_count": 156,
   "metadata": {},
   "outputs": [
    {
     "name": "stdout",
     "output_type": "stream",
     "text": [
      "\n",
      "park 8000905-1049118\n",
      "kim 700905-1059119\n",
      "\n"
     ]
    }
   ],
   "source": [
    "# 주어진 데이터\n",
    "data = \"\"\"\n",
    "park 8000905-1049118\n",
    "kim 700905-1059119\n",
    "\"\"\"\n",
    "\n",
    "print(data)"
   ]
  },
  {
   "cell_type": "code",
   "execution_count": 157,
   "metadata": {},
   "outputs": [
    {
     "name": "stdout",
     "output_type": "stream",
     "text": [
      "['', 'park 8000905-1049118', 'kim 700905-1059119']\n"
     ]
    }
   ],
   "source": [
    "# 줄바꿈 단위로 나눠 리스트에 담기\n",
    "data=data.splitlines()\n",
    "print(data)"
   ]
  },
  {
   "cell_type": "code",
   "execution_count": 158,
   "metadata": {},
   "outputs": [
    {
     "name": "stdout",
     "output_type": "stream",
     "text": [
      "['park 8000905-1049118', 'kim 700905-1059119']\n"
     ]
    }
   ],
   "source": [
    "# 필요없는 공백 구간 제거\n",
    "del(data[0])\n",
    "print(data)"
   ]
  },
  {
   "cell_type": "code",
   "execution_count": 159,
   "metadata": {},
   "outputs": [
    {
     "name": "stdout",
     "output_type": "stream",
     "text": [
      "park 8000905-*******\n",
      "kim 700905-*******\n"
     ]
    }
   ],
   "source": [
    "# 정보 한 줄씩 주민등록번호 뒷자리 숫자만 *로 치환하여 출력\n",
    "for i in data:\n",
    "    i=i.replace(i[-7:],\"*******\")\n",
    "    print(i)    "
   ]
  },
  {
   "cell_type": "markdown",
   "metadata": {},
   "source": [
    "- 정규식 풀이 배우기"
   ]
  },
  {
   "cell_type": "code",
   "execution_count": 160,
   "metadata": {},
   "outputs": [
    {
     "name": "stdout",
     "output_type": "stream",
     "text": [
      "\n",
      "park 8000905-*******\n",
      "kim 700905-*******\n",
      "\n"
     ]
    }
   ],
   "source": [
    "import re\n",
    "\n",
    "data = \"\"\"\n",
    "park 8000905-1049118\n",
    "kim 700905-1059119\n",
    "\"\"\"\n",
    "\n",
    "pat = re.compile(\"(\\d{6})[-]\\d{7}\")\n",
    "print(pat.sub(\"\\g<1>-*******\",data))\n"
   ]
  },
  {
   "cell_type": "markdown",
   "metadata": {},
   "source": []
  }
 ],
 "metadata": {
  "kernelspec": {
   "display_name": "Python 3.9.12 ('base')",
   "language": "python",
   "name": "python3"
  },
  "language_info": {
   "codemirror_mode": {
    "name": "ipython",
    "version": 3
   },
   "file_extension": ".py",
   "mimetype": "text/x-python",
   "name": "python",
   "nbconvert_exporter": "python",
   "pygments_lexer": "ipython3",
   "version": "3.9.12"
  },
  "orig_nbformat": 4,
  "vscode": {
   "interpreter": {
    "hash": "ad2bdc8ecc057115af97d19610ffacc2b4e99fae6737bb82f5d7fb13d2f2c186"
   }
  }
 },
 "nbformat": 4,
 "nbformat_minor": 2
}
