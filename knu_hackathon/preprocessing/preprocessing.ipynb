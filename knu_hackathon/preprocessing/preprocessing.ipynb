{
 "cells": [
  {
   "cell_type": "code",
   "execution_count": 3,
   "metadata": {},
   "outputs": [],
   "source": [
    "import pandas as pd\n",
    "import os\n",
    "\n",
    "def preprocessing(data_path):\n",
    "    files = os.listdir(data_path)\n",
    "\n",
    "    file_df_list = []\n",
    "\n",
    "    for file in files:\n",
    "        y = file[6:8]\n",
    "        m = file[8:10]\n",
    "        day_start = file[10:12]\n",
    "        day_last = file[-8:-6]\n",
    "\n",
    "        day_range = range(int(day_start), int(day_last)+1)\n",
    "        data = pd.read_excel(data_path + file)\n",
    "        data = data.T\n",
    "\n",
    "        concat_list = []\n",
    "\n",
    "        for col, day in zip(data.columns, day_range):\n",
    "            values = data[col][2:]\n",
    "\n",
    "            if int(day) < 10:\n",
    "                day =  \"20\" + str(y) + \"-\" + (m)  + \"-\" + \"0\" + str(day)\n",
    "            else:\n",
    "                day =  \"20\" + str(y) + \"-\" + (m)  + \"-\" + str(day)\n",
    "            days = [day] * 24\n",
    "            times = list(data.index)[2:]\n",
    "            day_times = zip(days, times)\n",
    "\n",
    "            day_time_list = []\n",
    "            for day_time in day_times:\n",
    "                result = \" \".join(day_time)\n",
    "                result = result.replace(\"시\", \":00:00\")\n",
    "                day_time_list.append(result)\n",
    "            \n",
    "            new_df = pd.DataFrame(\n",
    "                {\n",
    "                    'date': day_time_list,\n",
    "                    'values': values\n",
    "                }\n",
    "            )\n",
    "            concat_list.append(new_df)\n",
    "\n",
    "        new_data = pd.concat(concat_list, axis=0, ignore_index=True)\n",
    "        file_df_list.append(new_data)\n",
    "\n",
    "    result = pd.concat(file_df_list, axis=0, ignore_index=True)\n",
    "\n",
    "    return result"
   ]
  },
  {
   "cell_type": "code",
   "execution_count": 4,
   "metadata": {},
   "outputs": [],
   "source": [
    "DATA_PATH = \"./raw-data/\"\n",
    "OUTPUT_PATH = \"../data/\"\n",
    "\n",
    "result = preprocessing(DATA_PATH)\n",
    "result.to_csv(OUTPUT_PATH + \"data.csv\")"
   ]
  },
  {
   "cell_type": "code",
   "execution_count": null,
   "metadata": {},
   "outputs": [],
   "source": []
  }
 ],
 "metadata": {
  "kernelspec": {
   "display_name": "Python 3.9.13 ('streamlit')",
   "language": "python",
   "name": "python3"
  },
  "language_info": {
   "codemirror_mode": {
    "name": "ipython",
    "version": 3
   },
   "file_extension": ".py",
   "mimetype": "text/x-python",
   "name": "python",
   "nbconvert_exporter": "python",
   "pygments_lexer": "ipython3",
   "version": "3.9.13"
  },
  "orig_nbformat": 4,
  "vscode": {
   "interpreter": {
    "hash": "daff023456bfc43899f59e3c1af65b6fc38a88e55f3cffe90fe5d644bd318f9f"
   }
  }
 },
 "nbformat": 4,
 "nbformat_minor": 2
}
