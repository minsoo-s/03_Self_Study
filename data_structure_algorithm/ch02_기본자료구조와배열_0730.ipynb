{
 "cells": [
  {
   "cell_type": "markdown",
   "metadata": {},
   "source": [
    "# ● 02-1 자료구조와 배열\n",
    "---\n",
    "### [ 배열 ]\n",
    "    - 배열에는 객체가 저장되며 인덱스가 지정됨.\n",
    "    - 서로 다른 자료형도 같이 저장 가능.\n",
    "    - 배열 원소 자체를 배열로 저장 가능.\n",
    "\n",
    "    - list :list의 원소는 mutable 자료형 \n",
    "    - tuple: tuple의 원소는 immutable 자료형. (하나 존재 시, 마지막에 ','를 붙여줘야 함.)\n",
    "    - unpack : list, tuple의 원소를 여러 변수에 대입하는 것.\n",
    "    - index : 존재하지 않는 인덱스에서는 접근, 대입 불가능.\n",
    "    - slice : s[::-1] 은 맨 끝부터 s의 원소 모두 출력.\n",
    "\n",
    "### [ 자료구조]\n",
    "    - 논리적인 구조로 이루어진 데이터 구성.\n",
    "    - 리스트와 튜플은 자료구조에 포함시켜 배열이라고 할 수 있음.\n",
    "    - 배열 대소 및 등가관계 비교\n",
    "        1. 맨 앞부터 시작하여 값이 같으면 다음 원소로 넘어감.\n",
    "        2. 어느 한 숫자라도 비교 원소보다 크면 그 배열이 큰 것으로 간주.\n",
    "        3. 원소 수가 다른 경우 수가 많은 배열이 큰 것으로 간주.\n",
    "\n",
    "# ● 02-2 배열이란?\n",
    "    - 스캔(= 주사 or 트래버스) : 원소를 하나씩 주목하며 살펴보는 방식.      \n",
    "    - 함수 어노테이션 \n",
    "        - 사용이유: 파이썬에서는 인터프리터(interpreter)가 코드를 실행하면서 타입(type)을 추론하여\n",
    "                    체크합니다. 이로 인해 해석이 어려운 경우, 타입 힌팅을 통해 오류를 방지.\n",
    "        - 사용방법: 함수명(입력받는 값: 타입) -> 출력타입:\n",
    "                    ':' 뒤에 공백 하나, '->' 앞뒤로 공백 하나씩\n",
    "\n",
    "    - 재사용 모듈 작성\n",
    "        - 하나의 스크립트 프로그램 = 모듈, 확장자 .py 제외한 이름이 모듈 이름이 된다.\n",
    "        - 스크립트 프로그램이 직접 실행될 떄 : __name__ == '__main__'\n",
    "        - 스크립트 프로그램이 임포트될 때    : __name__ == '모듈 이름'\n",
    "        \n"
   ]
  },
  {
   "cell_type": "code",
   "execution_count": 12,
   "metadata": {},
   "outputs": [
    {
     "name": "stdout",
     "output_type": "stream",
     "text": [
      "배열의 최댓값을 구합니다,\n",
      "최댓값은 2932입니다.\n"
     ]
    }
   ],
   "source": [
    "# 시퀀스 원소의 최댓값 출력하기\n",
    "\n",
    "from typing import Any, Sequence \n",
    "\n",
    "# 시퀀스형 입력을 받아 최댓값을 출력하는 함수.\n",
    "def max_of(a: Sequence) -> Any: \n",
    "    '''시퀀스형 a원소의 최댓값을 반환'''\n",
    "    maximum = a[0]\n",
    "    for i in range(1, len(a)):\n",
    "        if a[i] > maximum:\n",
    "            maximum = a[i]\n",
    "        return maximum\n",
    "\n",
    "# 현재 스크립트에서만 실행    \n",
    "if __name__ == '__main__':\n",
    "    print('배열의 최댓값을 구합니다,')\n",
    "    num = int(input('원소 수를 입력하세요.: '))\n",
    "    x = [None] * num # 원소수가 num인 리스트 생성.\n",
    "\n",
    "for i in range(num):\n",
    "    x[i] = int(input(f'x[{i}]값을 입력하세요.: '))\n",
    "    \n",
    "print(f'최댓값은 {max_of(x)}입니다.') \n",
    "\n",
    "# -------------------------- 해석 --------------------------------------\n",
    "# Any : 제약 없는 임의의 자료형\n",
    "# Sequence : 시퀀스형을 말하며 리스트형, 배열형, 문자열형, 튜플형 , 바이트형이 있음.\n",
    "\n",
    "# 함수 어노테이션(주석달기) : 명시적으로 해석하기 어려운 경우 사용. \n",
    "# 입력 a는 Sequence타입이고, 출력은 Any이다.\n",
    "\n"
   ]
  },
  {
   "cell_type": "code",
   "execution_count": 8,
   "metadata": {},
   "outputs": [
    {
     "name": "stdout",
     "output_type": "stream",
     "text": [
      "배열의 최댓값을 구합니다.\n",
      "주의: \"End\"를 입력하면 종료합니다.\n",
      "3개를 입력했습니다.\n",
      "최댓값은 23입니다.\n"
     ]
    }
   ],
   "source": [
    "# 배열 원소 최댓값을 구해서 출력하기( 원솟값 입력받음)\n",
    "from max import max_of # 만든 모듈이 같은 폴더에 있어야 실행하네\n",
    "\n",
    "print('배열의 최댓값을 구합니다.')\n",
    "print('주의: \"End\"를 입력하면 종료합니다.')\n",
    "\n",
    "number = 0\n",
    "x = []\n",
    "\n",
    "# max_of 함수의 입력값 x 생성 함수.\n",
    "while True:\n",
    "    s = input(f'x[{number}]값을 입력하세요.')\n",
    "    if s == 'End': break\n",
    "    x.append(int(s))\n",
    "    number +=1\n",
    "\n",
    "print(f'{number}개를 입력했습니다.')\n",
    "print(f'최댓값은 {max_of(x)}입니다.')"
   ]
  },
  {
   "cell_type": "code",
   "execution_count": 11,
   "metadata": {},
   "outputs": [
    {
     "name": "stdout",
     "output_type": "stream",
     "text": [
      "난수의 최댓값을 구합니다.\n",
      "[5, 83, 23, 40, 99]\n",
      "이 가운데 최댓값은 99입니다.\n"
     ]
    }
   ],
   "source": [
    "# 배열 원소 최댓값 구해서 출력하기( 원솟값 난수로 입력)\n",
    "import random\n",
    "from max import max_of\n",
    "\n",
    "print('난수의 최댓값을 구합니다.')\n",
    "\n",
    "num = int(input('난수 개수를 입력하세요: '))\n",
    "lo = int(input('난수 최솟값을 입력하세요: '))\n",
    "hi = int(input('난수 최댓값을 입력하세요: '))\n",
    "x = [None] * num\n",
    "\n",
    "for i in range(num):\n",
    "    x[i] = random.randint(lo,hi)\n",
    "\n",
    "print(f'{(x)}')\n",
    "print(f'이 가운데 최댓값은 {max_of(x)}입니다.')    "
   ]
  },
  {
   "cell_type": "code",
   "execution_count": null,
   "metadata": {},
   "outputs": [],
   "source": []
  }
 ],
 "metadata": {
  "kernelspec": {
   "display_name": "Python 3.9.12 ('base')",
   "language": "python",
   "name": "python3"
  },
  "language_info": {
   "codemirror_mode": {
    "name": "ipython",
    "version": 3
   },
   "file_extension": ".py",
   "mimetype": "text/x-python",
   "name": "python",
   "nbconvert_exporter": "python",
   "pygments_lexer": "ipython3",
   "version": "3.9.12"
  },
  "orig_nbformat": 4,
  "vscode": {
   "interpreter": {
    "hash": "ad2bdc8ecc057115af97d19610ffacc2b4e99fae6737bb82f5d7fb13d2f2c186"
   }
  }
 },
 "nbformat": 4,
 "nbformat_minor": 2
}
