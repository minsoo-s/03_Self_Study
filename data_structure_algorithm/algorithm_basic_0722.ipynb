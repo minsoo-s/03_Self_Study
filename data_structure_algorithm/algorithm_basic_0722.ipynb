{
 "cells": [
  {
   "cell_type": "markdown",
   "metadata": {},
   "source": [
    "# 01 - 1 알고리즘이란?\n",
    "    - 어떤 문제를 해결하기 위해 정해 놓은 일련의 절차\n",
    "\n",
    "#### [구조]\n",
    " - 순차구조(sequential structure) : 한 문장씩 순서대로 처리되는 구조\n",
    " - 선택구조(select structure) : 조건식 평가결과에 따라 실행 흐름이 변경되는 구조\n",
    "\n",
    " ### [조건문]\n",
    " - header ':' 앞에서 동작하는 코드 (if, while 등)\n",
    " - suite  ':' 뒤에서 실행하는 코드\n",
    " - 분기(branching) : 프로그램 실행 흐름을 다른 곳으로 변경하는 명령\n",
    "\n",
    " ### [연산자]\n",
    " - 연산자 : operator, 피연산자 : operand\n",
    " - 단항 연산자 : 피연산자1 (ex) -a\n",
    " - 이항 연산자 : 피연산자2 (ex) a < b\n",
    " - 삼항 연산자 : 피연산자3 (ex) a if b else c\n",
    "    - 조건 연산자 if~ else 는 파이썬의 유일한 삼항 연산자\n",
    "\n",
    "### [순서도]\n",
    "-  flowcahrt : 문제를 정의, 분석하고 해결하는 방법을 그림으로 표현\n",
    "- 기호 종류\n",
    "    - 데이터 : 기억장치를 지정하지 않은 데이터 자체 \n",
    "    - 처리 : 여러 종류의 처리 기능\n",
    "    - 미리 정의한 처리 :서브루틴이나 모듈 등\n",
    "    - 판단 : 스위치형 기능\n",
    "    - 루프 범위 \n",
    "        - 시작기호, 종료기호 쌍을 이룸 (같은 이름)\n",
    "        - 변수명 : 초깃값, 증가값, 종료값 (ex) i:1,2,n -> 시작이나 종료 둘 중 한 곳에 표기해야함\n",
    "    - 선 : 제어흐름\n",
    "    - 단말 : 외부환경으로부터의 출입(프로그램의 종료와 시작)"
   ]
  },
  {
   "cell_type": "markdown",
   "metadata": {},
   "source": [
    "## 01-2 반복하는 알고리즘"
   ]
  },
  {
   "cell_type": "markdown",
   "metadata": {},
   "source": [
    "### [반복 구조]\n",
    "- (repetition structure) : loop\n",
    "- while: 카운터용 변수 사용\n",
    "- for : 변수가 하나만 있을 때 유리.\n",
    "- range : 이터러블 객체를 생성\n",
    "- 이터러블 객체 : 반복할 수 있는 객체 (list, str, tuple)\n"
   ]
  }
 ],
 "metadata": {
  "kernelspec": {
   "display_name": "Python 3.9.12 ('base')",
   "language": "python",
   "name": "python3"
  },
  "language_info": {
   "name": "python",
   "version": "3.9.12"
  },
  "orig_nbformat": 4,
  "vscode": {
   "interpreter": {
    "hash": "ad2bdc8ecc057115af97d19610ffacc2b4e99fae6737bb82f5d7fb13d2f2c186"
   }
  }
 },
 "nbformat": 4,
 "nbformat_minor": 2
}
